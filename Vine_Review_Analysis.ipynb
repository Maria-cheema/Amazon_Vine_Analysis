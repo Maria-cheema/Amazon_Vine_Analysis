{
  "nbformat": 4,
  "nbformat_minor": 0,
  "metadata": {
    "colab": {
      "provenance": []
    },
    "kernelspec": {
      "name": "python3",
      "display_name": "Python 3"
    },
    "language_info": {
      "name": "python"
    }
  },
  "cells": [
    {
      "cell_type": "code",
      "source": [
        "# DELIVERABLE 2"
      ],
      "metadata": {
        "id": "9ZuBscE8WTKQ"
      },
      "execution_count": null,
      "outputs": []
    },
    {
      "cell_type": "code",
      "execution_count": 1,
      "metadata": {
        "colab": {
          "base_uri": "https://localhost:8080/"
        },
        "id": "tE8beP2QU1bN",
        "outputId": "652c69cd-8f6a-45e6-d899-ed535559da58"
      },
      "outputs": [
        {
          "output_type": "stream",
          "name": "stdout",
          "text": [
            "\r0% [Working]\r            \rHit:1 http://archive.ubuntu.com/ubuntu focal InRelease\n",
            "\r            \rGet:2 https://cloud.r-project.org/bin/linux/ubuntu focal-cran40/ InRelease [3,622 B]\n",
            "\r0% [Waiting for headers] [Connecting to security.ubuntu.com (185.125.190.36)] [\r                                                                               \rGet:3 http://archive.ubuntu.com/ubuntu focal-updates InRelease [114 kB]\n",
            "Get:4 https://developer.download.nvidia.com/compute/cuda/repos/ubuntu2004/x86_64  InRelease [1,581 B]\n",
            "Get:5 http://archive.ubuntu.com/ubuntu focal-backports InRelease [108 kB]\n",
            "Hit:6 http://ppa.launchpad.net/c2d4u.team/c2d4u4.0+/ubuntu focal InRelease\n",
            "Hit:7 http://ppa.launchpad.net/cran/libgit2/ubuntu focal InRelease\n",
            "Get:8 http://ppa.launchpad.net/deadsnakes/ppa/ubuntu focal InRelease [18.1 kB]\n",
            "Get:9 https://developer.download.nvidia.com/compute/cuda/repos/ubuntu2004/x86_64  Packages [975 kB]\n",
            "Get:10 http://ppa.launchpad.net/graphics-drivers/ppa/ubuntu focal InRelease [24.3 kB]\n",
            "Get:11 http://archive.ubuntu.com/ubuntu focal-updates/multiverse amd64 Packages [31.2 kB]\n",
            "Get:12 http://archive.ubuntu.com/ubuntu focal-updates/restricted amd64 Packages [2,277 kB]\n",
            "Hit:13 http://ppa.launchpad.net/ubuntugis/ppa/ubuntu focal InRelease\n",
            "Get:14 http://archive.ubuntu.com/ubuntu focal-updates/universe amd64 Packages [1,329 kB]\n",
            "Get:15 http://archive.ubuntu.com/ubuntu focal-updates/main amd64 Packages [3,111 kB]\n",
            "Get:16 http://ppa.launchpad.net/deadsnakes/ppa/ubuntu focal/main amd64 Packages [29.5 kB]\n",
            "Get:17 http://ppa.launchpad.net/graphics-drivers/ppa/ubuntu focal/main amd64 Packages [46.7 kB]\n",
            "Get:18 http://security.ubuntu.com/ubuntu focal-security InRelease [114 kB]\n",
            "Get:19 http://security.ubuntu.com/ubuntu focal-security/main amd64 Packages [2,593 kB]\n",
            "Get:20 http://security.ubuntu.com/ubuntu focal-security/universe amd64 Packages [1,029 kB]\n",
            "Fetched 11.8 MB in 12s (962 kB/s)\n",
            "Reading package lists... Done\n",
            "Looking in indexes: https://pypi.org/simple, https://us-python.pkg.dev/colab-wheels/public/simple/\n",
            "Collecting pyspark\n",
            "  Downloading pyspark-3.4.0.tar.gz (310.8 MB)\n",
            "\u001b[2K     \u001b[90m━━━━━━━━━━━━━━━━━━━━━━━━━━━━━━━━━━━━━━━\u001b[0m \u001b[32m310.8/310.8 MB\u001b[0m \u001b[31m4.8 MB/s\u001b[0m eta \u001b[36m0:00:00\u001b[0m\n",
            "\u001b[?25h  Preparing metadata (setup.py) ... \u001b[?25l\u001b[?25hdone\n",
            "Requirement already satisfied: py4j==0.10.9.7 in /usr/local/lib/python3.9/dist-packages (from pyspark) (0.10.9.7)\n",
            "Building wheels for collected packages: pyspark\n",
            "  Building wheel for pyspark (setup.py) ... \u001b[?25l\u001b[?25hdone\n",
            "  Created wheel for pyspark: filename=pyspark-3.4.0-py2.py3-none-any.whl size=311317145 sha256=bec7c5ba04a5379e497fa64d952a715e5566a8e810df4054e9bcc66a044fcbf6\n",
            "  Stored in directory: /root/.cache/pip/wheels/9f/34/a4/159aa12d0a510d5ff7c8f0220abbea42e5d81ecf588c4fd884\n",
            "Successfully built pyspark\n",
            "Installing collected packages: pyspark\n",
            "Successfully installed pyspark-3.4.0\n"
          ]
        }
      ],
      "source": [
        "import os\n",
        "# Find the latest version of spark 3.0  from http://www.apache.org/dist/spark/ and enter as the spark version\n",
        "# For example:\n",
        "# spark_version = 'spark-3.0.3'\n",
        "spark_version = 'spark-3.3.2'\n",
        "os.environ['SPARK_VERSION']=spark_version\n",
        "\n",
        "# Install Spark and Java\n",
        "!apt-get update\n",
        "!apt-get install openjdk-11-jdk-headless -qq > /dev/null\n",
        "!wget -q http://www.apache.org/dist/spark/$SPARK_VERSION/$SPARK_VERSION-bin-hadoop2.tgz\n",
        "!tar xf $SPARK_VERSION-bin-hadoop2.tgz\n",
        "!pip install -q findspark\n",
        "\n",
        "# Set Environment Variables\n",
        "import os\n",
        "os.environ[\"JAVA_HOME\"] = \"/usr/lib/jvm/java-11-openjdk-amd64\"\n",
        "os.environ[\"SPARK_HOME\"] = f\"/content/{spark_version}-bin-hadoop2\"\n",
        "\n",
        "!pip install pyspark\n",
        "# Start a SparkSession\n",
        "import findspark\n",
        "findspark.init()"
      ]
    },
    {
      "cell_type": "code",
      "source": [
        "# Download the Postgres driver that will allow Spark to interact with Postgres.\n",
        "!wget https://jdbc.postgresql.org/download/postgresql-42.2.16.jar"
      ],
      "metadata": {
        "colab": {
          "base_uri": "https://localhost:8080/"
        },
        "id": "xcVgr-4Eaosp",
        "outputId": "7d86bd93-4050-4cb8-e2c7-4a5cdb41d6cb"
      },
      "execution_count": 6,
      "outputs": [
        {
          "output_type": "stream",
          "name": "stdout",
          "text": [
            "--2023-04-18 12:50:37--  https://jdbc.postgresql.org/download/postgresql-42.2.16.jar\n",
            "Resolving jdbc.postgresql.org (jdbc.postgresql.org)... 72.32.157.228, 2001:4800:3e1:1::228\n",
            "Connecting to jdbc.postgresql.org (jdbc.postgresql.org)|72.32.157.228|:443... connected.\n",
            "HTTP request sent, awaiting response... 200 OK\n",
            "Length: 1002883 (979K) [application/java-archive]\n",
            "Saving to: ‘postgresql-42.2.16.jar’\n",
            "\n",
            "postgresql-42.2.16. 100%[===================>] 979.38K  --.-KB/s    in 0.08s   \n",
            "\n",
            "2023-04-18 12:50:37 (11.3 MB/s) - ‘postgresql-42.2.16.jar’ saved [1002883/1002883]\n",
            "\n"
          ]
        }
      ]
    },
    {
      "cell_type": "code",
      "source": [
        "from pyspark.sql import SparkSession\n",
        "spark = SparkSession.builder.appName(\"M17-Amazon-Challenge\").config(\"spark.driver.extraClassPath\",\"/content/postgresql-42.2.16.jar\").getOrCreate()"
      ],
      "metadata": {
        "id": "fOCA9UGpWf62"
      },
      "execution_count": 7,
      "outputs": []
    },
    {
      "cell_type": "code",
      "source": [
        "from pyspark import SparkFiles\n",
        "url = \"https://s3.amazonaws.com/amazon-reviews-pds/tsv/amazon_reviews_us_Watches_v1_00.tsv.gz\"\n",
        "spark.sparkContext.addFile(url)\n",
        "df = spark.read.option(\"encoding\", \"UTF-8\").csv(SparkFiles.get(\"amazon_reviews_us_Watches_v1_00.tsv.gz\"), sep=\"\\t\", header=True, inferSchema=True)\n",
        "df.show()"
      ],
      "metadata": {
        "colab": {
          "base_uri": "https://localhost:8080/"
        },
        "id": "R66iApxOWf38",
        "outputId": "2cabdc6e-5c30-4460-a66d-b33d9e3837d9"
      },
      "execution_count": 8,
      "outputs": [
        {
          "output_type": "stream",
          "name": "stdout",
          "text": [
            "+-----------+-----------+--------------+----------+--------------+--------------------+----------------+-----------+-------------+-----------+----+-----------------+--------------------+--------------------+-------------------+\n",
            "|marketplace|customer_id|     review_id|product_id|product_parent|       product_title|product_category|star_rating|helpful_votes|total_votes|vine|verified_purchase|     review_headline|         review_body|        review_date|\n",
            "+-----------+-----------+--------------+----------+--------------+--------------------+----------------+-----------+-------------+-----------+----+-----------------+--------------------+--------------------+-------------------+\n",
            "|         US|    3653882|R3O9SGZBVQBV76|B00FALQ1ZC|     937001370|Invicta Women's 1...|         Watches|          5|            0|          0|   N|                Y|          Five Stars|Absolutely love t...|2015-08-31 00:00:00|\n",
            "|         US|   14661224| RKH8BNC3L5DLF|B00D3RGO20|     484010722|Kenneth Cole New ...|         Watches|          5|            0|          0|   N|                Y|I love thiswatch ...|I love this watch...|2015-08-31 00:00:00|\n",
            "|         US|   27324930|R2HLE8WKZSU3NL|B00DKYC7TK|     361166390|Ritche 22mm Black...|         Watches|          2|            1|          1|   N|                Y|           Two Stars|           Scratches|2015-08-31 00:00:00|\n",
            "|         US|    7211452|R31U3UH5AZ42LL|B000EQS1JW|     958035625|Citizen Men's BM8...|         Watches|          5|            0|          0|   N|                Y|          Five Stars|It works well on ...|2015-08-31 00:00:00|\n",
            "|         US|   12733322|R2SV659OUJ945Y|B00A6GFD7S|     765328221|Orient ER27009B M...|         Watches|          4|            0|          0|   N|                Y|Beautiful face, b...|Beautiful watch f...|2015-08-31 00:00:00|\n",
            "|         US|    6576411| RA51CP8TR5A2L|B00EYSOSE8|     230493695|Casio Men's GW-94...|         Watches|          5|            0|          0|   N|                Y|       No complaints|i love this watch...|2015-08-31 00:00:00|\n",
            "|         US|   11811565| RB2Q7DLDN6TH6|B00WM0QA3M|     549298279|Fossil Women's ES...|         Watches|          5|            1|          1|   N|                Y|          Five Stars|for my wife and s...|2015-08-31 00:00:00|\n",
            "|         US|   49401598|R2RHFJV0UYBK3Y|B00A4EYBR0|     844009113|INFANTRY Mens Nig...|         Watches|          1|            1|          5|   N|                N|I was about to bu...|I was about to bu...|2015-08-31 00:00:00|\n",
            "|         US|   45925069|R2Z6JOQ94LFHEP|B00MAMPGGE|     263720892|G-Shock Men's Gre...|         Watches|          5|            1|          2|   N|                Y|      Perfect watch!|Watch is perfect....|2015-08-31 00:00:00|\n",
            "|         US|   44751341| RX27XIIWY5JPB|B004LBPB7Q|     124278407|Heiden Quad Watch...|         Watches|          4|            0|          0|   N|                Y|Great quality and...|Great quality and...|2015-08-31 00:00:00|\n",
            "|         US|    9962330|R15C7QEZT0LGZN|B00KGTVGKS|      28017857|Fossil Women's ES...|         Watches|          4|            2|          2|   N|                Y|           Satisfied|The watch was pre...|2015-08-31 00:00:00|\n",
            "|         US|   16097204|R361XSS37V0NCZ|B0039UT5OU|     685450910|Casio General Men...|         Watches|          1|            0|          0|   N|                N|I do not think th...|I bought this wat...|2015-08-31 00:00:00|\n",
            "|         US|   51330346| ROTNLALUAJAUB|B00MPF0XJQ|     767769082|2Tone Gold Silver...|         Watches|          3|            0|          0|   N|                Y|         Three Stars|It is a cheap wat...|2015-08-31 00:00:00|\n",
            "|         US|    4201739|R2DYX7QU6BGOHR|B003P1OHHS|     648595227|Bulova Men's 98B1...|         Watches|          5|            0|          0|   N|                Y|          Five Stars|Heavier than i th...|2015-08-31 00:00:00|\n",
            "|         US|   26339765| RWASY7FKI7QOT|B00R70YEOE|     457338020|Casio - G-Shock -...|         Watches|          5|            2|          3|   N|                Y|  Worth it - love it|Had it for severa...|2015-08-31 00:00:00|\n",
            "|         US|    2692576|R2KKYZIN3CCL21|B000FVE3BG|     824370661|Invicta Men's 332...|         Watches|          5|            0|          0|   N|                Y|This is when diff...|This one is diffe...|2015-08-31 00:00:00|\n",
            "|         US|   44713366|R22H4FGVD5O52O|B008X6JB12|     814431355|Seiko Women's SUT...|         Watches|          4|            1|          1|   N|                Y|Thewatch is attra...|The watch is attr...|2015-08-31 00:00:00|\n",
            "|         US|   32778769|R11UACZERCM4ZY|B0040UOFPW|     187700878|Anne Klein Women'...|         Watches|          5|            0|          0|   N|                Y|          Five Stars|      said my wife..|2015-08-31 00:00:00|\n",
            "|         US|   27258523|R1AT8NQ38UQOL6|B00UR2R5UY|     594315262|Guess U13630G1 Me...|         Watches|          5|            0|          0|   N|                Y|          Five Stars|Nice watch, on ti...|2015-08-31 00:00:00|\n",
            "|         US|   42646538|R2NCZRQGIF1Q75|B00HFF57L0|     520810507|Nixon Men's Geo V...|         Watches|          4|            0|          0|   N|                Y|        Very stylish|Looks great and l...|2015-08-31 00:00:00|\n",
            "+-----------+-----------+--------------+----------+--------------+--------------------+----------------+-----------+-------------+-----------+----+-----------------+--------------------+--------------------+-------------------+\n",
            "only showing top 20 rows\n",
            "\n"
          ]
        }
      ]
    },
    {
      "cell_type": "code",
      "source": [
        "# DataFrame or table to retrieve all the rows where the total_votes count is equal to or greater than 20 for reviews\n",
        "total_votes_df = df.filter(df[\"total_votes\"]>= 20)\n",
        "total_votes_df.show()"
      ],
      "metadata": {
        "colab": {
          "base_uri": "https://localhost:8080/"
        },
        "id": "HXPoPtsWWf01",
        "outputId": "2e65b394-2caa-4975-8645-a242775af5ba"
      },
      "execution_count": 16,
      "outputs": [
        {
          "output_type": "stream",
          "name": "stdout",
          "text": [
            "+-----------+-----------+--------------+----------+--------------+--------------------+----------------+-----------+-------------+-----------+----+-----------------+--------------------+--------------------+-------------------+\n",
            "|marketplace|customer_id|     review_id|product_id|product_parent|       product_title|product_category|star_rating|helpful_votes|total_votes|vine|verified_purchase|     review_headline|         review_body|        review_date|\n",
            "+-----------+-----------+--------------+----------+--------------+--------------------+----------------+-----------+-------------+-----------+----+-----------------+--------------------+--------------------+-------------------+\n",
            "|         US|   17728960|R14W2VCHHK5V7W|B00ZI3R5VG|     213303319|Stuhrling Origina...|         Watches|          5|           19|         20|   N|                Y|this is a good al...|As a former Rolex...|2015-08-31 00:00:00|\n",
            "|         US|   20240757|R1S3T57O3OYT5S|B003DZ7VOW|     336197576|G-Shock GA100A-7A...|         Watches|          5|           19|         20|   N|                Y|          Five Stars|         Great watch|2015-08-31 00:00:00|\n",
            "|         US|   15806601|R1BTWIBLYYVOV7|B00I1LM5SK|     878438426|Seiko Men's SSC22...|         Watches|          5|           30|         30|   N|                Y|Extremely Satisfied!|A beautiful timep...|2015-08-31 00:00:00|\n",
            "|         US|   14870011| R6F9VY91ADPLA|B002ZLE41I|     118278818|Grand Seiko Wrist...|         Watches|          1|            8|         30|   N|                N|            NOT a GS|NOT a Grand Seiko...|2015-08-31 00:00:00|\n",
            "|         US|   32751852|R3PXNV89DFIXKV|B00OAY5ZPC|     814269665|G-Shock Men's Mil...|         Watches|          5|           35|         37|   N|                Y|Sweet watch perfe...|Sweet watch perfe...|2015-08-30 00:00:00|\n",
            "|         US|   36877359|R2ZF9NYVT3J7D6|B000JQJS6M|     926299553|Invicta Men's 892...|         Watches|          5|           19|         22|   N|                Y|Wow what a great ...|I bought this wat...|2015-08-30 00:00:00|\n",
            "|         US|   52450678|R20NYA5V0UF9NE|B00EX1GLXM|     186312431|Daniel Wellington...|         Watches|          5|           27|         28|   N|                Y|  Best Women's Watch|I love this watch...|2015-08-30 00:00:00|\n",
            "|         US|   20624774|R2X8FZRUOS8R8C|B00WUY9RGM|     609917507|Bulova Accutron I...|         Watches|          4|           25|         26|   N|                Y|A very nice reiss...|A very nice reiss...|2015-08-29 00:00:00|\n",
            "|         US|     225889|R2D8IMBVX3XCLF|B00U0XC1T0|      31905742|Akribos XXIV Men'...|         Watches|          1|           14|         20|   N|                Y|I bought in 30 ju...|I bought in 30 ju...|2015-08-29 00:00:00|\n",
            "|         US|   36602051|R25UD9TA63L3Q8|B00YTYH16Y|     251372732|Timex Expedition ...|         Watches|          5|           25|         27|   N|                Y|Great watch for s...|I work in an a me...|2015-08-28 00:00:00|\n",
            "|         US|   47047549|R2RB1HML8N712P|B00J5QR062|     220979928|Casio Men's GA-11...|         Watches|          5|           26|         28|   N|                Y| My First G-SHOCK...|I'll be honest I ...|2015-08-28 00:00:00|\n",
            "|         US|    2546433| ROXA8XP5EI2KK|B009XGOP8A|     973820677|Michael Kors Wome...|         Watches|          5|           48|         49|   N|                N|I love it. I woul...|This thing is gor...|2015-08-28 00:00:00|\n",
            "|         US|   24173990|R149IHTGGSRGX9|B00BKQTA4A|     128852263|Daniel Wellington...|         Watches|          5|           19|         20|   N|                Y|          Five Stars|Great watch! My n...|2015-08-28 00:00:00|\n",
            "|         US|   53096363|R1B7M0OP3UNP6O|B00V0G9OGE|     297682929|Armitron Sport Wo...|         Watches|          5|           49|         52|   Y|                N|Lots of features ...|My wife has been ...|2015-08-27 00:00:00|\n",
            "|         US|   27863178|R2N92CUM7WBA1A|B013XHV4GU|     119578945|G-Shock Men's G-S...|         Watches|          5|           27|         28|   N|                Y|Big, but proporti...|This is a great c...|2015-08-27 00:00:00|\n",
            "|         US|   41750372|R2TAFZNG4KHFQB|B00YTY8MQW|     967993443|Timex Men's Weeke...|         Watches|          4|           24|         24|   N|                Y|Quiet Timex Weeke...|I recently picked...|2015-08-27 00:00:00|\n",
            "|         US|    2132145| RNRFACS48ZE4A|B000B55AEK|     525035983|Timex Women's Ind...|         Watches|          5|           21|         21|   N|                Y|I'm a busy colleg...|I'm a busy colleg...|2015-08-27 00:00:00|\n",
            "|         US|    4160429|R2PO5QTLXJ9LHG|B00TU78EXE|     508562164|AUDEMARS PIGUET R...|         Watches|          5|           33|         46|   N|                N|Great watch and i...|Great watch. I bo...|2015-08-27 00:00:00|\n",
            "|         US|   49019268|R38KDT041DRMIN|B00NIF9H3U|     998896201|Omega Men's 31130...|         Watches|          5|           19|         24|   N|                Y|Looks good on the...|Gorgeous watch wi...|2015-08-26 00:00:00|\n",
            "|         US|   10220971|R2MNPDWCA42I4G|B00K92JHX0|     826514849|Fanmis Ceramic Be...|         Watches|          1|           17|         20|   N|                N|Parnis is a scam....|I bought this wat...|2015-08-26 00:00:00|\n",
            "+-----------+-----------+--------------+----------+--------------+--------------------+----------------+-----------+-------------+-----------+----+-----------------+--------------------+--------------------+-------------------+\n",
            "only showing top 20 rows\n",
            "\n"
          ]
        }
      ]
    },
    {
      "cell_type": "code",
      "source": [
        "# retrieve all the rows where the number of helpful_votes divided by total_votes is equal to or greater than 50%.\n",
        "helpful_votes_df = total_votes_df.filter((col(\"helpful_votes\") / col(\"total_votes\")) >= 0.5)\n",
        "helpful_votes_df.show()\n"
      ],
      "metadata": {
        "colab": {
          "base_uri": "https://localhost:8080/"
        },
        "id": "Js8bKT5iWfx3",
        "outputId": "44fedef3-6e00-4180-8864-84966c571f0c"
      },
      "execution_count": 17,
      "outputs": [
        {
          "output_type": "stream",
          "name": "stdout",
          "text": [
            "+-----------+-----------+--------------+----------+--------------+--------------------+----------------+-----------+-------------+-----------+----+-----------------+--------------------+--------------------+-------------------+\n",
            "|marketplace|customer_id|     review_id|product_id|product_parent|       product_title|product_category|star_rating|helpful_votes|total_votes|vine|verified_purchase|     review_headline|         review_body|        review_date|\n",
            "+-----------+-----------+--------------+----------+--------------+--------------------+----------------+-----------+-------------+-----------+----+-----------------+--------------------+--------------------+-------------------+\n",
            "|         US|   17728960|R14W2VCHHK5V7W|B00ZI3R5VG|     213303319|Stuhrling Origina...|         Watches|          5|           19|         20|   N|                Y|this is a good al...|As a former Rolex...|2015-08-31 00:00:00|\n",
            "|         US|   20240757|R1S3T57O3OYT5S|B003DZ7VOW|     336197576|G-Shock GA100A-7A...|         Watches|          5|           19|         20|   N|                Y|          Five Stars|         Great watch|2015-08-31 00:00:00|\n",
            "|         US|   15806601|R1BTWIBLYYVOV7|B00I1LM5SK|     878438426|Seiko Men's SSC22...|         Watches|          5|           30|         30|   N|                Y|Extremely Satisfied!|A beautiful timep...|2015-08-31 00:00:00|\n",
            "|         US|   32751852|R3PXNV89DFIXKV|B00OAY5ZPC|     814269665|G-Shock Men's Mil...|         Watches|          5|           35|         37|   N|                Y|Sweet watch perfe...|Sweet watch perfe...|2015-08-30 00:00:00|\n",
            "|         US|   36877359|R2ZF9NYVT3J7D6|B000JQJS6M|     926299553|Invicta Men's 892...|         Watches|          5|           19|         22|   N|                Y|Wow what a great ...|I bought this wat...|2015-08-30 00:00:00|\n",
            "|         US|   52450678|R20NYA5V0UF9NE|B00EX1GLXM|     186312431|Daniel Wellington...|         Watches|          5|           27|         28|   N|                Y|  Best Women's Watch|I love this watch...|2015-08-30 00:00:00|\n",
            "|         US|   20624774|R2X8FZRUOS8R8C|B00WUY9RGM|     609917507|Bulova Accutron I...|         Watches|          4|           25|         26|   N|                Y|A very nice reiss...|A very nice reiss...|2015-08-29 00:00:00|\n",
            "|         US|     225889|R2D8IMBVX3XCLF|B00U0XC1T0|      31905742|Akribos XXIV Men'...|         Watches|          1|           14|         20|   N|                Y|I bought in 30 ju...|I bought in 30 ju...|2015-08-29 00:00:00|\n",
            "|         US|   36602051|R25UD9TA63L3Q8|B00YTYH16Y|     251372732|Timex Expedition ...|         Watches|          5|           25|         27|   N|                Y|Great watch for s...|I work in an a me...|2015-08-28 00:00:00|\n",
            "|         US|   47047549|R2RB1HML8N712P|B00J5QR062|     220979928|Casio Men's GA-11...|         Watches|          5|           26|         28|   N|                Y| My First G-SHOCK...|I'll be honest I ...|2015-08-28 00:00:00|\n",
            "|         US|    2546433| ROXA8XP5EI2KK|B009XGOP8A|     973820677|Michael Kors Wome...|         Watches|          5|           48|         49|   N|                N|I love it. I woul...|This thing is gor...|2015-08-28 00:00:00|\n",
            "|         US|   24173990|R149IHTGGSRGX9|B00BKQTA4A|     128852263|Daniel Wellington...|         Watches|          5|           19|         20|   N|                Y|          Five Stars|Great watch! My n...|2015-08-28 00:00:00|\n",
            "|         US|   53096363|R1B7M0OP3UNP6O|B00V0G9OGE|     297682929|Armitron Sport Wo...|         Watches|          5|           49|         52|   Y|                N|Lots of features ...|My wife has been ...|2015-08-27 00:00:00|\n",
            "|         US|   27863178|R2N92CUM7WBA1A|B013XHV4GU|     119578945|G-Shock Men's G-S...|         Watches|          5|           27|         28|   N|                Y|Big, but proporti...|This is a great c...|2015-08-27 00:00:00|\n",
            "|         US|   41750372|R2TAFZNG4KHFQB|B00YTY8MQW|     967993443|Timex Men's Weeke...|         Watches|          4|           24|         24|   N|                Y|Quiet Timex Weeke...|I recently picked...|2015-08-27 00:00:00|\n",
            "|         US|    2132145| RNRFACS48ZE4A|B000B55AEK|     525035983|Timex Women's Ind...|         Watches|          5|           21|         21|   N|                Y|I'm a busy colleg...|I'm a busy colleg...|2015-08-27 00:00:00|\n",
            "|         US|    4160429|R2PO5QTLXJ9LHG|B00TU78EXE|     508562164|AUDEMARS PIGUET R...|         Watches|          5|           33|         46|   N|                N|Great watch and i...|Great watch. I bo...|2015-08-27 00:00:00|\n",
            "|         US|   49019268|R38KDT041DRMIN|B00NIF9H3U|     998896201|Omega Men's 31130...|         Watches|          5|           19|         24|   N|                Y|Looks good on the...|Gorgeous watch wi...|2015-08-26 00:00:00|\n",
            "|         US|   10220971|R2MNPDWCA42I4G|B00K92JHX0|     826514849|Fanmis Ceramic Be...|         Watches|          1|           17|         20|   N|                N|Parnis is a scam....|I bought this wat...|2015-08-26 00:00:00|\n",
            "|         US|   15374156|R3F3KMKY26K620|B006ZMHUP0|     899975826|Seiko QXA520KLH W...|         Watches|          4|           25|         26|   N|                Y|          Nice clock|This is a very pr...|2015-08-26 00:00:00|\n",
            "+-----------+-----------+--------------+----------+--------------+--------------------+----------------+-----------+-------------+-----------+----+-----------------+--------------------+--------------------+-------------------+\n",
            "only showing top 20 rows\n",
            "\n"
          ]
        }
      ]
    },
    {
      "cell_type": "code",
      "source": [
        "#  retrieves all the rows where a review was written as part of the Vine program (paid), vine == 'Y'.\n",
        "vine_df = helpful_votes_df.filter(col(\"vine\") == \"Y\")\n",
        "vine_df.show()\n"
      ],
      "metadata": {
        "colab": {
          "base_uri": "https://localhost:8080/"
        },
        "id": "Z06oK83SWfun",
        "outputId": "d6653251-b09b-46cd-99a1-6e7512767668"
      },
      "execution_count": 19,
      "outputs": [
        {
          "output_type": "stream",
          "name": "stdout",
          "text": [
            "+-----------+-----------+--------------+----------+--------------+--------------------+----------------+-----------+-------------+-----------+----+-----------------+--------------------+--------------------+-------------------+\n",
            "|marketplace|customer_id|     review_id|product_id|product_parent|       product_title|product_category|star_rating|helpful_votes|total_votes|vine|verified_purchase|     review_headline|         review_body|        review_date|\n",
            "+-----------+-----------+--------------+----------+--------------+--------------------+----------------+-----------+-------------+-----------+----+-----------------+--------------------+--------------------+-------------------+\n",
            "|         US|   53096363|R1B7M0OP3UNP6O|B00V0G9OGE|     297682929|Armitron Sport Wo...|         Watches|          5|           49|         52|   Y|                N|Lots of features ...|My wife has been ...|2015-08-27 00:00:00|\n",
            "|         US|   51394788|R2UUV4UGGYMQG8|B00M1Y5AIU|     368146384|Boulevard ClickTi...|         Watches|          5|           34|         39|   Y|                N|Another superb up...|I'm shocked that ...|2014-11-10 00:00:00|\n",
            "|         US|   43796190| R9K0LZV2BK9YY|B008AXURAW|     328723789|Fossil FS4735 Gra...|         Watches|          4|           37|         39|   Y|                N|A very handsome w...|There are plenty ...|2014-07-29 00:00:00|\n",
            "|         US|   52460215|R2OVFLNEUEGTJM|B00IOOB1RU|     394792547|Casio Men's STB-1...|         Watches|          3|           18|         25|   Y|                N|   Nice But Overkill|Casio makes good ...|2014-05-22 00:00:00|\n",
            "|         US|   20981134| RBE09ELJ77LQ0|B00ATUKPRE|     250661797|Invicta Men's 143...|         Watches|          5|           44|         45|   Y|                N|A large yet class...|[[VIDEOID:mo31IMO...|2013-06-18 00:00:00|\n",
            "|         US|   52584172|R3867T8AIJJHM6|B00ATUKPRE|     250661797|Invicta Men's 143...|         Watches|          5|           26|         27|   Y|                N|Large faced flash...|On the internet w...|2013-06-17 00:00:00|\n",
            "|         US|   49214860|R1FNVUXPU63WOZ|B00B2GZI1M|     539196805|Stuhrling Origina...|         Watches|          4|           43|         48|   Y|                N|Beautiful and Fun...|Shopping for watc...|2013-06-05 00:00:00|\n",
            "|         US|   39036425|R25XGG2G12SE1Z|B00B2GZJXE|     777697728|Stuhrling Origina...|         Watches|          4|           20|         23|   Y|                N|Packaging is grea...|There are plus it...|2013-05-23 00:00:00|\n",
            "|         US|   42247018| R3JKU4HRDFZDH|B00ATUKQG4|     479826550|Invicta Men's 143...|         Watches|          4|           27|         30|   Y|                N|An absolutely bea...|The Invicta 14331...|2013-05-23 00:00:00|\n",
            "|         US|   52775525|R2PQYOCJXRB1BF|B00B2GZJXE|     777697728|Stuhrling Origina...|         Watches|          5|           26|         28|   Y|                N|Beautifully Class...|I love this watch...|2013-05-23 00:00:00|\n",
            "|         US|   51731441|R1JBQ8UBLA8N4X|B00791R1MI|     961043582|Casio Men's Solar...|         Watches|          4|          349|        370|   Y|                N|Great Idea But Ha...|The Casio Men's A...|2013-05-09 00:00:00|\n",
            "|         US|   50820654|R2I01ZYMO0GYP1|B00791R1MI|     961043582|Casio Men's Solar...|         Watches|          4|          107|        121|   Y|                N|Good Quality Watc...|This Casio Solar ...|2013-05-03 00:00:00|\n",
            "|         US|   39036425|R297GF8EF7AXPO|B00AELHD0U|     430738829|Casio Men's Ana-D...|         Watches|          2|           22|         30|   Y|                N|A watch you can u...|Taking this watch...|2013-04-27 00:00:00|\n",
            "|         US|   52486291|R2OFG89WKPLHGU|B00AELHD0U|     430738829|Casio Men's Ana-D...|         Watches|          5|           54|         60|   Y|                N|The Perfect Post-...|After the apocaly...|2013-04-25 00:00:00|\n",
            "|         US|   52755608|R13PI8O4697CEV|B00791R1MI|     961043582|Casio Men's Solar...|         Watches|          4|          135|        144|   Y|                N|Fun sporty solar ...|Casio Men's AQ-S8...|2013-04-24 00:00:00|\n",
            "|         US|   51118641|R223MX62JYWUOY|B00ATULBA4|     487220800|Invicta Women's 1...|         Watches|          4|           20|         21|   Y|                N|It's not your Gra...|If you are consid...|2013-04-11 00:00:00|\n",
            "|         US|   34571698| RTSXZ0HZF623M|B00ATUL9TW|     364380215|Invicta Women's 1...|         Watches|          3|           13|         22|   Y|                N|Strong enough for...|I know Invicta pr...|2013-04-06 00:00:00|\n",
            "|         US|   42043140|R1OB4GCKEYGV9I|B0096IQZ8S|     398873095|Stuhrling Origina...|         Watches|          4|           61|         90|   Y|                N|Everything About ...|Immediately upon ...|2013-01-20 00:00:00|\n",
            "|         US|   50658053|R1YBNRRUD5WCG4|B0089K8CE4|     613213413|Stuhrling Origina...|         Watches|          5|           15|         20|   Y|                N|          Impressive|I do love watches...|2012-11-03 00:00:00|\n",
            "|         US|   48002256|R3L4Z6NK2Z4OV5|B0089K8CHG|     613213413|Stuhrling Origina...|         Watches|          2|           24|         33|   Y|                N|    Hard to see time|Stuhrling is a ma...|2012-10-27 00:00:00|\n",
            "+-----------+-----------+--------------+----------+--------------+--------------------+----------------+-----------+-------------+-----------+----+-----------------+--------------------+--------------------+-------------------+\n",
            "only showing top 20 rows\n",
            "\n"
          ]
        }
      ]
    },
    {
      "cell_type": "code",
      "source": [
        "# retrieve all the rows where the review was not part of the Vine program (unpaid), vine == 'N'.\n",
        "unpaid_df = total_votes_df.filter(col(\"vine\") == 'N')\n",
        "unpaid_df.show()"
      ],
      "metadata": {
        "colab": {
          "base_uri": "https://localhost:8080/"
        },
        "id": "WDKyfmaGWflt",
        "outputId": "6393c1f7-055b-4c33-e3ef-a957417d8038"
      },
      "execution_count": 23,
      "outputs": [
        {
          "output_type": "stream",
          "name": "stdout",
          "text": [
            "+-----------+-----------+--------------+----------+--------------+--------------------+----------------+-----------+-------------+-----------+----+-----------------+--------------------+--------------------+-------------------+\n",
            "|marketplace|customer_id|     review_id|product_id|product_parent|       product_title|product_category|star_rating|helpful_votes|total_votes|vine|verified_purchase|     review_headline|         review_body|        review_date|\n",
            "+-----------+-----------+--------------+----------+--------------+--------------------+----------------+-----------+-------------+-----------+----+-----------------+--------------------+--------------------+-------------------+\n",
            "|         US|   17728960|R14W2VCHHK5V7W|B00ZI3R5VG|     213303319|Stuhrling Origina...|         Watches|          5|           19|         20|   N|                Y|this is a good al...|As a former Rolex...|2015-08-31 00:00:00|\n",
            "|         US|   20240757|R1S3T57O3OYT5S|B003DZ7VOW|     336197576|G-Shock GA100A-7A...|         Watches|          5|           19|         20|   N|                Y|          Five Stars|         Great watch|2015-08-31 00:00:00|\n",
            "|         US|   15806601|R1BTWIBLYYVOV7|B00I1LM5SK|     878438426|Seiko Men's SSC22...|         Watches|          5|           30|         30|   N|                Y|Extremely Satisfied!|A beautiful timep...|2015-08-31 00:00:00|\n",
            "|         US|   14870011| R6F9VY91ADPLA|B002ZLE41I|     118278818|Grand Seiko Wrist...|         Watches|          1|            8|         30|   N|                N|            NOT a GS|NOT a Grand Seiko...|2015-08-31 00:00:00|\n",
            "|         US|   32751852|R3PXNV89DFIXKV|B00OAY5ZPC|     814269665|G-Shock Men's Mil...|         Watches|          5|           35|         37|   N|                Y|Sweet watch perfe...|Sweet watch perfe...|2015-08-30 00:00:00|\n",
            "|         US|   36877359|R2ZF9NYVT3J7D6|B000JQJS6M|     926299553|Invicta Men's 892...|         Watches|          5|           19|         22|   N|                Y|Wow what a great ...|I bought this wat...|2015-08-30 00:00:00|\n",
            "|         US|   52450678|R20NYA5V0UF9NE|B00EX1GLXM|     186312431|Daniel Wellington...|         Watches|          5|           27|         28|   N|                Y|  Best Women's Watch|I love this watch...|2015-08-30 00:00:00|\n",
            "|         US|   20624774|R2X8FZRUOS8R8C|B00WUY9RGM|     609917507|Bulova Accutron I...|         Watches|          4|           25|         26|   N|                Y|A very nice reiss...|A very nice reiss...|2015-08-29 00:00:00|\n",
            "|         US|     225889|R2D8IMBVX3XCLF|B00U0XC1T0|      31905742|Akribos XXIV Men'...|         Watches|          1|           14|         20|   N|                Y|I bought in 30 ju...|I bought in 30 ju...|2015-08-29 00:00:00|\n",
            "|         US|   36602051|R25UD9TA63L3Q8|B00YTYH16Y|     251372732|Timex Expedition ...|         Watches|          5|           25|         27|   N|                Y|Great watch for s...|I work in an a me...|2015-08-28 00:00:00|\n",
            "|         US|   47047549|R2RB1HML8N712P|B00J5QR062|     220979928|Casio Men's GA-11...|         Watches|          5|           26|         28|   N|                Y| My First G-SHOCK...|I'll be honest I ...|2015-08-28 00:00:00|\n",
            "|         US|    2546433| ROXA8XP5EI2KK|B009XGOP8A|     973820677|Michael Kors Wome...|         Watches|          5|           48|         49|   N|                N|I love it. I woul...|This thing is gor...|2015-08-28 00:00:00|\n",
            "|         US|   24173990|R149IHTGGSRGX9|B00BKQTA4A|     128852263|Daniel Wellington...|         Watches|          5|           19|         20|   N|                Y|          Five Stars|Great watch! My n...|2015-08-28 00:00:00|\n",
            "|         US|   27863178|R2N92CUM7WBA1A|B013XHV4GU|     119578945|G-Shock Men's G-S...|         Watches|          5|           27|         28|   N|                Y|Big, but proporti...|This is a great c...|2015-08-27 00:00:00|\n",
            "|         US|   41750372|R2TAFZNG4KHFQB|B00YTY8MQW|     967993443|Timex Men's Weeke...|         Watches|          4|           24|         24|   N|                Y|Quiet Timex Weeke...|I recently picked...|2015-08-27 00:00:00|\n",
            "|         US|    2132145| RNRFACS48ZE4A|B000B55AEK|     525035983|Timex Women's Ind...|         Watches|          5|           21|         21|   N|                Y|I'm a busy colleg...|I'm a busy colleg...|2015-08-27 00:00:00|\n",
            "|         US|    4160429|R2PO5QTLXJ9LHG|B00TU78EXE|     508562164|AUDEMARS PIGUET R...|         Watches|          5|           33|         46|   N|                N|Great watch and i...|Great watch. I bo...|2015-08-27 00:00:00|\n",
            "|         US|   49019268|R38KDT041DRMIN|B00NIF9H3U|     998896201|Omega Men's 31130...|         Watches|          5|           19|         24|   N|                Y|Looks good on the...|Gorgeous watch wi...|2015-08-26 00:00:00|\n",
            "|         US|   10220971|R2MNPDWCA42I4G|B00K92JHX0|     826514849|Fanmis Ceramic Be...|         Watches|          1|           17|         20|   N|                N|Parnis is a scam....|I bought this wat...|2015-08-26 00:00:00|\n",
            "|         US|   15374156|R3F3KMKY26K620|B006ZMHUP0|     899975826|Seiko QXA520KLH W...|         Watches|          4|           25|         26|   N|                Y|          Nice clock|This is a very pr...|2015-08-26 00:00:00|\n",
            "+-----------+-----------+--------------+----------+--------------+--------------------+----------------+-----------+-------------+-----------+----+-----------------+--------------------+--------------------+-------------------+\n",
            "only showing top 20 rows\n",
            "\n"
          ]
        }
      ]
    },
    {
      "cell_type": "code",
      "source": [
        "# Determine the total number of reviews, \n",
        "# Total number of reviews for paid and unpaid\n",
        "total_paid_reviews = vine_df.count()\n",
        "total_unpaid_reviews = unpaid_df.count()\n",
        "\n",
        "# the number of 5-star reviews, \n",
        "five_star_paid_reviews = vine_df.filter(col(\"star_rating\") == 5).count()\n",
        "five_star_unpaid_reviews = unpaid_df.filter(col(\"star_rating\") == 5).count()\n",
        "\n",
        "# and the percentage of 5-star reviews for the two types of review (paid vs unpaid).\n",
        "percentage_paid_reviews = (five_star_paid_reviews / total_paid_reviews) * 100\n",
        "percentage_unpaid_reviews = (five_star_unpaid_reviews / total_unpaid_reviews) * 100\n",
        "\n",
        "print(\"Total number of paid reviews: \", total_paid_reviews)\n",
        "print(\"Total number of unpaid reviews: \", total_unpaid_reviews)\n",
        "print(\"Number of 5-star paid reviews: \", five_star_paid_reviews)\n",
        "print(\"Number of 5-star unpaid reviews: \", five_star_unpaid_reviews)\n",
        "print(\"Percentage of 5-star paid reviews: \", percentage_paid_reviews)\n",
        "print(\"Percentage of 5-star unpaid reviews: \", percentage_unpaid_reviews)\n",
        "\n",
        "\n"
      ],
      "metadata": {
        "colab": {
          "base_uri": "https://localhost:8080/"
        },
        "id": "EcaPsxSzWfcP",
        "outputId": "9048d129-5fc1-4b25-ff2c-d4faa8463c1e"
      },
      "execution_count": 27,
      "outputs": [
        {
          "output_type": "stream",
          "name": "stdout",
          "text": [
            "Total number of paid reviews:  47\n",
            "Total number of unpaid reviews:  9584\n",
            "Number of 5-star paid reviews:  15\n",
            "Number of 5-star unpaid reviews:  4516\n",
            "Percentage of 5-star paid reviews:  31.914893617021278\n",
            "Percentage of 5-star unpaid reviews:  47.12020033388982\n"
          ]
        }
      ]
    },
    {
      "cell_type": "code",
      "source": [],
      "metadata": {
        "id": "dD8U9zajWfRf"
      },
      "execution_count": null,
      "outputs": []
    }
  ]
}